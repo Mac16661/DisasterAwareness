{
 "cells": [
  {
   "cell_type": "code",
   "execution_count": 1,
   "metadata": {},
   "outputs": [],
   "source": [
    "import pandas as pd\n",
    "from kafka import KafkaProducer\n",
    "from time import sleep\n",
    "from json import dumps\n",
    "import json"
   ]
  },
  {
   "cell_type": "code",
   "execution_count": 2,
   "metadata": {},
   "outputs": [],
   "source": [
    "# Change the IP for Future use\n",
    "producer = KafkaProducer(bootstrap_servers=['52.66.250.166:9092'],\n",
    "                         value_serializer=lambda x: \n",
    "                         dumps(x).encode('utf-8'))"
   ]
  },
  {
   "cell_type": "code",
   "execution_count": 3,
   "metadata": {},
   "outputs": [
    {
     "data": {
      "text/plain": [
       "<kafka.producer.future.FutureRecordMetadata at 0x23089d457b0>"
      ]
     },
     "execution_count": 3,
     "metadata": {},
     "output_type": "execute_result"
    }
   ],
   "source": [
    "producer.send('kafka-react', value={'key1':'parasdasdmar'})"
   ]
  },
  {
   "cell_type": "code",
   "execution_count": 2,
   "metadata": {},
   "outputs": [],
   "source": [
    "df = pd.read_csv(\"../train_cleaned.csv\")\n",
    "# df_test = pd.read_csv(\"../test_cleaned.csv\")"
   ]
  },
  {
   "cell_type": "code",
   "execution_count": 3,
   "metadata": {},
   "outputs": [
    {
     "data": {
      "text/html": [
       "<div>\n",
       "<style scoped>\n",
       "    .dataframe tbody tr th:only-of-type {\n",
       "        vertical-align: middle;\n",
       "    }\n",
       "\n",
       "    .dataframe tbody tr th {\n",
       "        vertical-align: top;\n",
       "    }\n",
       "\n",
       "    .dataframe thead th {\n",
       "        text-align: right;\n",
       "    }\n",
       "</style>\n",
       "<table border=\"1\" class=\"dataframe\">\n",
       "  <thead>\n",
       "    <tr style=\"text-align: right;\">\n",
       "      <th></th>\n",
       "      <th>id</th>\n",
       "      <th>keyword</th>\n",
       "      <th>location</th>\n",
       "      <th>text</th>\n",
       "      <th>labels</th>\n",
       "      <th>has_url</th>\n",
       "    </tr>\n",
       "  </thead>\n",
       "  <tbody>\n",
       "    <tr>\n",
       "      <th>0</th>\n",
       "      <td>1</td>\n",
       "      <td>NaN</td>\n",
       "      <td>NaN</td>\n",
       "      <td>Our Deeds are the Reason of this #earthquake M...</td>\n",
       "      <td>1</td>\n",
       "      <td>False</td>\n",
       "    </tr>\n",
       "    <tr>\n",
       "      <th>1</th>\n",
       "      <td>4</td>\n",
       "      <td>NaN</td>\n",
       "      <td>NaN</td>\n",
       "      <td>Forest fire near La Ronge Sask. Canada</td>\n",
       "      <td>1</td>\n",
       "      <td>False</td>\n",
       "    </tr>\n",
       "    <tr>\n",
       "      <th>2</th>\n",
       "      <td>5</td>\n",
       "      <td>NaN</td>\n",
       "      <td>NaN</td>\n",
       "      <td>All residents asked to 'shelter in place' are ...</td>\n",
       "      <td>1</td>\n",
       "      <td>False</td>\n",
       "    </tr>\n",
       "    <tr>\n",
       "      <th>3</th>\n",
       "      <td>6</td>\n",
       "      <td>NaN</td>\n",
       "      <td>NaN</td>\n",
       "      <td>13,000 people receive #wildfires evacuation or...</td>\n",
       "      <td>1</td>\n",
       "      <td>False</td>\n",
       "    </tr>\n",
       "    <tr>\n",
       "      <th>4</th>\n",
       "      <td>7</td>\n",
       "      <td>NaN</td>\n",
       "      <td>NaN</td>\n",
       "      <td>Just got sent this photo from Ruby #Alaska as ...</td>\n",
       "      <td>1</td>\n",
       "      <td>False</td>\n",
       "    </tr>\n",
       "  </tbody>\n",
       "</table>\n",
       "</div>"
      ],
      "text/plain": [
       "   id keyword location                                               text  \\\n",
       "0   1     NaN      NaN  Our Deeds are the Reason of this #earthquake M...   \n",
       "1   4     NaN      NaN             Forest fire near La Ronge Sask. Canada   \n",
       "2   5     NaN      NaN  All residents asked to 'shelter in place' are ...   \n",
       "3   6     NaN      NaN  13,000 people receive #wildfires evacuation or...   \n",
       "4   7     NaN      NaN  Just got sent this photo from Ruby #Alaska as ...   \n",
       "\n",
       "   labels  has_url  \n",
       "0       1    False  \n",
       "1       1    False  \n",
       "2       1    False  \n",
       "3       1    False  \n",
       "4       1    False  "
      ]
     },
     "execution_count": 3,
     "metadata": {},
     "output_type": "execute_result"
    }
   ],
   "source": [
    "df.head()"
   ]
  },
  {
   "cell_type": "code",
   "execution_count": 49,
   "metadata": {},
   "outputs": [
    {
     "data": {
      "text/plain": [
       "31            birmingham\n",
       "32           [something]\n",
       "33                africa\n",
       "34      philadelphia, pa\n",
       "35                london\n",
       "              ...       \n",
       "6677                  tn\n",
       "6679         [something]\n",
       "6681         [something]\n",
       "6682         [something]\n",
       "6683         [something]\n",
       "Name: location, Length: 4509, dtype: object"
      ]
     },
     "execution_count": 49,
     "metadata": {},
     "output_type": "execute_result"
    }
   ],
   "source": [
    "df[\"location\"].dropna()"
   ]
  },
  {
   "cell_type": "code",
   "execution_count": 4,
   "metadata": {},
   "outputs": [
    {
     "data": {
      "text/plain": [
       "array([nan, 'birmingham', '[something]', 'africa', 'philadelphia, pa',\n",
       "       'london', 'pretoria', 'india', 'barbados', 'usa', 'south africa',\n",
       "       'calgary, ab', 'san francisco', 'nashville, tn', 'uk',\n",
       "       'st. louis, mo', 'australia', 'north carolina', 'arlington, tx',\n",
       "       'new hanover county, nc', 'maldives', 'manchester, nh',\n",
       "       'wilmington, nc', 'planet earth', 'charlotte', 'baton rouge, la',\n",
       "       'nairobi, kenya', 'instagram - @heyimginog ', '304',\n",
       "       'somewhere only we know ?', 'belgium', '19.600858, -99.047821',\n",
       "       'pennsylvania', 'financial news and views', 'indonesia', 'canada',\n",
       "       'israel', 'san francisco, ca', 'italy', 'new york', 'toronto',\n",
       "       'new orleans, la', 'arizona ', 'mumbai', 'north carolina, usa',\n",
       "       'boston', 'pa', 'swaning around', 'california', 'subconscious la',\n",
       "       'rock hill, sc', 'republic of texas', 'phoenix, az', 'colorado',\n",
       "       'texas', 'austin, tx', 'oakland', 'buenos aires, argentina',\n",
       "       'oregon, usa', 'las vegas', 'tokyo', 'california, united states',\n",
       "       '#flightcity uk  ', 'nowhere. everywhere.', 'florida, usa',\n",
       "       'east coast', 'kent', 'cyprus', 'memphis, tn', 'pakistan',\n",
       "       'washington dc', 'charlotte, nc', 'milwaukee, wi', 'ss', 'atlanta',\n",
       "       'america', 'nyc :) ex- #islamophobe', 'sf bay area',\n",
       "       'orange county, california', 'adelaide, south australia',\n",
       "       'dallas, tx', 'location', 'ireland', 'dubai', 'tucson, az',\n",
       "       'seattle wa', 'scotland, united kingdom', 'portland, oregon', 'ph',\n",
       "       'los angeles', 'texas, usa', 'atx', 'denver, co', 'brasil',\n",
       "       'buy give me my money ', 'philippines', 'san jose, ca', 'utah',\n",
       "       'wisconsin', 'washington d.c.', 'nc', 'atlanta, ga',\n",
       "       'manhattan, ny', 'memphis', 'sydney, new south wales',\n",
       "       'budapest, hungary', 'columbus', 'fresno, ca', 'rio de janeiro',\n",
       "       'columbus, oh', 'mo.city', 'arizona', 'gotham city', 'your screen',\n",
       "       'everywhere', 'nigeria', 'az', 'baltimore, md', 'seattle', 'va',\n",
       "       'florida', 'brooklyn, ny', 'ottawa, canada', 'calgary, alberta',\n",
       "       'kama | 18 | france ', 'sydney', 'scotland', 'vancouver, bc',\n",
       "       'cleveland, oh', 'ontario canada', 'washington, usa',\n",
       "       \"dime's palace\", 'seattle, wa', 'htx', '???', 'ewa beach, hi',\n",
       "       'buenos aires', 'malaysia', 'chicago', 'leicester', 'singapore',\n",
       "       'glasgow', 'santa cruz, ca', 'oklahoma', 'georgia', 'st paul, mn',\n",
       "       'houston, tx', 'mi', 'austin, texas', 'oklahoma city', 'ca',\n",
       "       'charlotte nc', 'long island, ny', 'washington, d.c.',\n",
       "       'lincoln, ne', 'manchester', 'knoxville, tn', 'lagos nigeria',\n",
       "       'odawara, japan', 'chicago, il', 'des moines, ia', '??',\n",
       "       'melbourne', 'cape town', 'ma', 'sydney, australia',\n",
       "       'silicon valley', 'leeds, england', 'nj', 'denver, colorado',\n",
       "       'selma2oakland', 'new hampshire', 'world wide', 'tulsa, oklahoma',\n",
       "       'fort walton beach, fl', 'sweden', 'roanoke, va', 'boston, ma',\n",
       "       'oklahoma city, ok', 'germany', 'massachusetts', 'erie, pa',\n",
       "       'gainesville, fl', 'oakland, ca', 'dc', 'cherry creek denver co',\n",
       "       'http://www.amazon.com/dp/b00hr', 'sacramento, ca',\n",
       "       'victoria, british columbia', 'midwest', 'jamaica',\n",
       "       'trinidad and tobago', 'melbourne australia', 'indiana', 'nairobi',\n",
       "       'london uk', 'kenya', 'virginia', 'liverpool',\n",
       "       'massachusetts, usa', 'kansas city, mo', 'stockholm, sweden',\n",
       "       'portugal', 'portland, or', 'dublin, ireland', 'wales',\n",
       "       'seattle, washington', 'las vegas, nevada', 'colombia', 'norway',\n",
       "       'suplex city', 'sydney australia', 'lagos, nigeria',\n",
       "       'the netherlands', 'chicago, illinois', 'san jose, california',\n",
       "       'europe', 'kingston, jamaica', 'san francisco bay area',\n",
       "       'perth, western australia', 'michigan', 'pennsylvania, usa',\n",
       "       'oregon', 'tennessee', 'johannesburg, south africa', 'california ',\n",
       "       'sacramento', 'ontario, canada', 'maryland',\n",
       "       '21.462446,-158.022017', 'melbourne, australia', 'san antonio, tx',\n",
       "       'miami, fl', 'u.k.', 'trinidad & tobago', 'toronto, ontario',\n",
       "       'state college, pa', 'adelaide, australia', 'illinois, usa',\n",
       "       'miami', 'geneva', 'columbia, sc', 'right here', 'unknown',\n",
       "       'somewhere in the canada', 'newcastle upon tyne, england',\n",
       "       'orlando, fl', 'south stand', \"spare 'oom\", 'kansas',\n",
       "       'new york, new york', 'lagos', 'does it really matter!',\n",
       "       'edinburgh', 'hong kong', 'berlin, germany', 'tampa, fl',\n",
       "       'brisbane', '617-btown-beatdown', 'nottingham, england',\n",
       "       'karachi, pakistan', 'newcastle', 'mad as hell', 'kolkata',\n",
       "       'glasgow, scotland', 'paterson, new jersey ', 'lisbon, portugal',\n",
       "       '??????', 'buffalo, ny', 'nairobi-kenya', 'u.s.a', 'anchorage, ak',\n",
       "       'washington, dc & charlotte, nc', 'alexandria, va',\n",
       "       'philadelphia, pa ', 'the insane asylum. ', 'michigan, usa',\n",
       "       'istanbul', 'chile', 'virginia, usa', 'san diego, ca', 'japan',\n",
       "       'honduras', 'new england', 'thailand', 'boise, idaho',\n",
       "       'all around the world', 'georgia, usa', 'moscow',\n",
       "       'manchester, england', 'manchester, uk', 'winston-salem, nc',\n",
       "       'bournemouth', 'vancouver bc', 'naperville',\n",
       "       'los angeles, california', 'usa (formerly @usnoaagov)',\n",
       "       'philadelphia', 'coventry', 'scandinavia', 'madison, wi',\n",
       "       'ca via brum', 'argentina', 'desde republica argentina',\n",
       "       'hawaii, usa', 'new zealand', 'in the word of god', 'here.',\n",
       "       'karachi pakistan', '?????', 'mumbai, maharashtra', 'phoenix',\n",
       "       'indianapolis, in', 'five down from the coffeeshop', 'calgary',\n",
       "       'kansas city', 'olympia, wa', 'british columbia, canada',\n",
       "       'auckland', 'vancouver, british columbia', 'alaska',\n",
       "       'birmingham, england', 'san diego', 'chevy chase, md', 'wa state',\n",
       "       'gold coast, australia', 'washington', 'bend, oregon',\n",
       "       'minna, nigeria', 'moncton, new brunswick',\n",
       "       'yamaku academy, class 3-4', 'winnipeg', 'bakersfield, california',\n",
       "       'haddonfield, nj', 'southern california', 'in the potters hands',\n",
       "       'new jersey', '434', 'tx', 'sì£o paulo', 'newark, nj',\n",
       "       'niagara falls, ontario', 'hell', 'asheville, nc',\n",
       "       'melbourne, victoria', 'derby', \"jakarta/kuala lumpur/s'pore\",\n",
       "       'global-nolocation', 'redding, california, usa',\n",
       "       'washington state', 'heaven', 'calgary, ab, canada',\n",
       "       ' queensland, australia', 'cleveland, oh - san diego, ca',\n",
       "       'port harcourt, nigeria', 'the universe', 'mesa, az', 'dubai, uae',\n",
       "       'mnl', 'louisiana', 'baltimore', 'asia', 'dundee', 'jakarta',\n",
       "       'venezuela', 'greensboro, north carolina', 'leesburg, fl',\n",
       "       'victoria, bc', 'victoria, australia, earth', 'new sweden',\n",
       "       'anonymous', 'huntsville, al', 'haysville, ks', 'ashburn, va',\n",
       "       'raleigh, nc', 'somewhere usa ', 'austin tx', 'upstairs.',\n",
       "       'federal capital territory', 'durham, nc', 'toronto, canada',\n",
       "       'narnia', 'macon, ga', 'detroit', '?', 'bangalore, india',\n",
       "       'los angeles ', 'vancouver usa', 'united states of america',\n",
       "       'san diego california 92101', 'auckland, new zealand', 'karachi',\n",
       "       'ohio, usa', 'a little house in the outback.', 'accra,ghana',\n",
       "       'pittsburgh', 'somalia', 'above the snake line - #yonews',\n",
       "       '???  dreamz', 'the american wasteland (mv)', 'ohio', 'they/them ',\n",
       "       'decatur, ga', 'taylor swift', 'helsinki', 'tn',\n",
       "       'iraq|afghanistan| rsa |baghdad', 'new delhi, india',\n",
       "       'enfield, uk', 'jupiter', 'houston', 'costa rica', 'incognito',\n",
       "       'brooklyn, nyc', '140920-21 & 150718-19 beijing', 'kashmir!'],\n",
       "      dtype=object)"
      ]
     },
     "execution_count": 4,
     "metadata": {},
     "output_type": "execute_result"
    }
   ],
   "source": [
    "df[\"location\"].unique()"
   ]
  },
  {
   "cell_type": "code",
   "execution_count": 10,
   "metadata": {},
   "outputs": [],
   "source": [
    "from geopy.geocoders import Nominatim\n",
    "geolocator = Nominatim(user_agent=\"MyApp\")\n",
    "location = geolocator.geocode(df[\"location\"][112])"
   ]
  },
  {
   "cell_type": "code",
   "execution_count": 47,
   "metadata": {},
   "outputs": [
    {
     "name": "stdout",
     "output_type": "stream",
     "text": [
      "11.0480288 46.3144754\n"
     ]
    }
   ],
   "source": [
    "# print(location.lat)\n",
    "dat = \"nan\"\n",
    "\n",
    "if not pd.isna(dat) :\n",
    "    \n",
    "    # print( location)\n",
    "    try: \n",
    "        location = geolocator.geocode(dat)\n",
    "        print(location.longitude, location.latitude)\n",
    "    except:\n",
    "        print(\"server time out\")\n",
    "else: \n",
    "    print(\"NULL\")"
   ]
  },
  {
   "cell_type": "code",
   "execution_count": 37,
   "metadata": {},
   "outputs": [
    {
     "ename": "NameError",
     "evalue": "name 'producer' is not defined",
     "output_type": "error",
     "traceback": [
      "\u001b[1;31m---------------------------------------------------------------------------\u001b[0m",
      "\u001b[1;31mNameError\u001b[0m                                 Traceback (most recent call last)",
      "Cell \u001b[1;32mIn[37], line 3\u001b[0m\n\u001b[0;32m      1\u001b[0m \u001b[39mwhile\u001b[39;00m \u001b[39mTrue\u001b[39;00m:\n\u001b[0;32m      2\u001b[0m     dict_stock \u001b[39m=\u001b[39m df\u001b[39m.\u001b[39msample(\u001b[39m1\u001b[39m)\u001b[39m.\u001b[39mto_dict(orient\u001b[39m=\u001b[39m\u001b[39m\"\u001b[39m\u001b[39mrecords\u001b[39m\u001b[39m\"\u001b[39m)[\u001b[39m0\u001b[39m]\n\u001b[1;32m----> 3\u001b[0m     producer\u001b[39m.\u001b[39msend(\u001b[39m'\u001b[39m\u001b[39mkafka-react\u001b[39m\u001b[39m'\u001b[39m, value\u001b[39m=\u001b[39mdict_stock)\n\u001b[0;32m      4\u001b[0m     sleep(\u001b[39m2\u001b[39m)\n",
      "\u001b[1;31mNameError\u001b[0m: name 'producer' is not defined"
     ]
    }
   ],
   "source": [
    "while True:\n",
    "    dict_stock = df.sample(1).to_dict(orient=\"records\")[0]\n",
    "    producer.send('kafka-react', value=dict_stock)\n",
    "    sleep(2)"
   ]
  },
  {
   "cell_type": "code",
   "execution_count": 9,
   "metadata": {},
   "outputs": [],
   "source": [
    "# Clear the data form kafka server\n",
    "producer.flush() "
   ]
  },
  {
   "cell_type": "code",
   "execution_count": 1,
   "metadata": {},
   "outputs": [],
   "source": [
    "#Email sending \n",
    "import yagmail\n",
    "yag = yagmail.SMTP(\"subhodip.ghosh2022@vitstudent.ac.in\", \"asuznbicwwryexef\")"
   ]
  },
  {
   "cell_type": "code",
   "execution_count": 3,
   "metadata": {},
   "outputs": [],
   "source": [
    "push_disaster = {\n",
    "                \"text\": \"dict_disaster.get()\",\n",
    "                \"location\": {\n",
    "                    \"lat\": \"location.latitude\",\n",
    "                    \"lng\": \"location.longitude\",\n",
    "                },\n",
    "            }"
   ]
  },
  {
   "cell_type": "code",
   "execution_count": 4,
   "metadata": {},
   "outputs": [
    {
     "ename": "AttributeError",
     "evalue": "'dict' object has no attribute 'text'",
     "output_type": "error",
     "traceback": [
      "\u001b[1;31m---------------------------------------------------------------------------\u001b[0m",
      "\u001b[1;31mAttributeError\u001b[0m                            Traceback (most recent call last)",
      "Cell \u001b[1;32mIn[4], line 1\u001b[0m\n\u001b[1;32m----> 1\u001b[0m yag\u001b[39m.\u001b[39msend(\u001b[39m\"\u001b[39m\u001b[39mmacy16661@gmail.com\u001b[39m\u001b[39m\"\u001b[39m, \u001b[39m\"\u001b[39m\u001b[39mHELLO\u001b[39m\u001b[39m\"\u001b[39m, \u001b[39mf\u001b[39m\u001b[39m\"\u001b[39m\u001b[39m{\u001b[39;00mpush_disaster\u001b[39m.\u001b[39;49mtext\u001b[39m}\u001b[39;00m\u001b[39m \u001b[39m\u001b[39m{\u001b[39;00mpush_disaster\u001b[39m.\u001b[39mlocation\u001b[39m}\u001b[39;00m\u001b[39m\"\u001b[39m)\n",
      "\u001b[1;31mAttributeError\u001b[0m: 'dict' object has no attribute 'text'"
     ]
    }
   ],
   "source": [
    "yag.send(\"macy16661@gmail.com\", \"HELLO\", f\"{push_disaster.text} {push_disaster.location}\")"
   ]
  },
  {
   "cell_type": "code",
   "execution_count": null,
   "metadata": {},
   "outputs": [],
   "source": []
  }
 ],
 "metadata": {
  "kernelspec": {
   "display_name": "Python 3",
   "language": "python",
   "name": "python3"
  },
  "language_info": {
   "codemirror_mode": {
    "name": "ipython",
    "version": 3
   },
   "file_extension": ".py",
   "mimetype": "text/x-python",
   "name": "python",
   "nbconvert_exporter": "python",
   "pygments_lexer": "ipython3",
   "version": "3.10.10"
  },
  "orig_nbformat": 4
 },
 "nbformat": 4,
 "nbformat_minor": 2
}
